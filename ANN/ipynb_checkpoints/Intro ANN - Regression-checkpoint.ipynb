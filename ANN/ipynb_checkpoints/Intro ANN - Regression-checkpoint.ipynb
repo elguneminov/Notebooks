{
 "cells": [
  {
   "cell_type": "markdown",
   "metadata": {},
   "source": [
    "# Deep Learning with TensorFlow"
   ]
  },
  {
   "cell_type": "markdown",
   "metadata": {},
   "source": [
    "![Namespace Logo](../labs.png)"
   ]
  },
  {
   "cell_type": "markdown",
   "metadata": {},
   "source": [
    "[Install Tensorflow 2 ](https://www.tensorflow.org/install)"
   ]
  },
  {
   "cell_type": "markdown",
   "metadata": {},
   "source": [
    "import pandas as pd\n",
    "import matplotlib.pyplot as plt\n",
    "import seaborn as sns"
   ]
  },
  {
   "cell_type": "code",
   "execution_count": 1,
   "metadata": {},
   "outputs": [],
   "source": [
    "import pandas as pd\n",
    "import matplotlib.pyplot as plt\n",
    "import seaborn as sns\n",
    "import numpy as np\n",
    "df = pd.read_csv('sales.csv')"
   ]
  },
  {
   "cell_type": "code",
   "execution_count": 2,
   "metadata": {},
   "outputs": [
    {
     "data": {
      "text/html": [
       "<div>\n",
       "<style scoped>\n",
       "    .dataframe tbody tr th:only-of-type {\n",
       "        vertical-align: middle;\n",
       "    }\n",
       "\n",
       "    .dataframe tbody tr th {\n",
       "        vertical-align: top;\n",
       "    }\n",
       "\n",
       "    .dataframe thead th {\n",
       "        text-align: right;\n",
       "    }\n",
       "</style>\n",
       "<table border=\"1\" class=\"dataframe\">\n",
       "  <thead>\n",
       "    <tr style=\"text-align: right;\">\n",
       "      <th></th>\n",
       "      <th>Feature 1</th>\n",
       "      <th>Feature 2</th>\n",
       "      <th>Feature 3</th>\n",
       "      <th>Feature 4</th>\n",
       "      <th>Feature 5</th>\n",
       "      <th>Price</th>\n",
       "    </tr>\n",
       "  </thead>\n",
       "  <tbody>\n",
       "    <tr>\n",
       "      <th>0</th>\n",
       "      <td>561.985028</td>\n",
       "      <td>732.353911</td>\n",
       "      <td>617.229697</td>\n",
       "      <td>557.960379</td>\n",
       "      <td>433.822515</td>\n",
       "      <td>17626.615604</td>\n",
       "    </tr>\n",
       "    <tr>\n",
       "      <th>1</th>\n",
       "      <td>661.395572</td>\n",
       "      <td>448.089304</td>\n",
       "      <td>913.175553</td>\n",
       "      <td>986.790667</td>\n",
       "      <td>392.644115</td>\n",
       "      <td>22918.339944</td>\n",
       "    </tr>\n",
       "    <tr>\n",
       "      <th>2</th>\n",
       "      <td>810.726439</td>\n",
       "      <td>541.588398</td>\n",
       "      <td>581.677631</td>\n",
       "      <td>947.810958</td>\n",
       "      <td>72.740924</td>\n",
       "      <td>19844.766068</td>\n",
       "    </tr>\n",
       "    <tr>\n",
       "      <th>3</th>\n",
       "      <td>89.220403</td>\n",
       "      <td>20.703639</td>\n",
       "      <td>852.602722</td>\n",
       "      <td>796.832513</td>\n",
       "      <td>890.892440</td>\n",
       "      <td>14745.282522</td>\n",
       "    </tr>\n",
       "    <tr>\n",
       "      <th>4</th>\n",
       "      <td>1002.105182</td>\n",
       "      <td>818.338370</td>\n",
       "      <td>472.554867</td>\n",
       "      <td>799.261877</td>\n",
       "      <td>121.113012</td>\n",
       "      <td>15104.316428</td>\n",
       "    </tr>\n",
       "  </tbody>\n",
       "</table>\n",
       "</div>"
      ],
      "text/plain": [
       "     Feature 1   Feature 2   Feature 3   Feature 4   Feature 5         Price\n",
       "0   561.985028  732.353911  617.229697  557.960379  433.822515  17626.615604\n",
       "1   661.395572  448.089304  913.175553  986.790667  392.644115  22918.339944\n",
       "2   810.726439  541.588398  581.677631  947.810958   72.740924  19844.766068\n",
       "3    89.220403   20.703639  852.602722  796.832513  890.892440  14745.282522\n",
       "4  1002.105182  818.338370  472.554867  799.261877  121.113012  15104.316428"
      ]
     },
     "execution_count": 2,
     "metadata": {},
     "output_type": "execute_result"
    }
   ],
   "source": [
    "df.head()"
   ]
  },
  {
   "cell_type": "code",
   "execution_count": 3,
   "metadata": {},
   "outputs": [],
   "source": [
    "X = df.drop(['Price'],axis=1)"
   ]
  },
  {
   "cell_type": "code",
   "execution_count": 4,
   "metadata": {},
   "outputs": [],
   "source": [
    "y = df['Price']"
   ]
  },
  {
   "cell_type": "code",
   "execution_count": 5,
   "metadata": {},
   "outputs": [],
   "source": [
    "from sklearn.model_selection import train_test_split"
   ]
  },
  {
   "cell_type": "code",
   "execution_count": 6,
   "metadata": {},
   "outputs": [],
   "source": [
    "X_train, X_test, y_train, y_test = train_test_split(X, y, test_size=0.30, random_state=101)"
   ]
  },
  {
   "cell_type": "code",
   "execution_count": 7,
   "metadata": {},
   "outputs": [],
   "source": [
    "from sklearn.preprocessing import MinMaxScaler"
   ]
  },
  {
   "cell_type": "code",
   "execution_count": 8,
   "metadata": {},
   "outputs": [],
   "source": [
    "sc = MinMaxScaler()"
   ]
  },
  {
   "cell_type": "code",
   "execution_count": 9,
   "metadata": {},
   "outputs": [
    {
     "data": {
      "text/plain": [
       "MinMaxScaler()"
      ]
     },
     "execution_count": 9,
     "metadata": {},
     "output_type": "execute_result"
    }
   ],
   "source": [
    "sc.fit(X_train)"
   ]
  },
  {
   "cell_type": "code",
   "execution_count": 10,
   "metadata": {},
   "outputs": [],
   "source": [
    "X_train= sc.transform(X_train)"
   ]
  },
  {
   "cell_type": "code",
   "execution_count": 11,
   "metadata": {},
   "outputs": [],
   "source": [
    "X_test = sc.transform(X_test)"
   ]
  },
  {
   "cell_type": "code",
   "execution_count": 12,
   "metadata": {},
   "outputs": [],
   "source": [
    "from tensorflow import keras\n",
    "from tensorflow.keras import Sequential\n",
    "from tensorflow.keras.layers import Dense"
   ]
  },
  {
   "cell_type": "code",
   "execution_count": 13,
   "metadata": {},
   "outputs": [],
   "source": [
    "my_model = Sequential()\n",
    "my_model.add(Dense(5,activation='relu',input_dim=5))\n",
    "my_model.add(Dense(5,activation='relu'))\n",
    "my_model.add(Dense(5,activation='relu'))\n",
    "my_model.add(Dense(1,activation=keras.activations.linear))\n",
    "my_model.compile(optimizer='adam', loss='mean_squared_error',metrics=['mse'])"
   ]
  },
  {
   "cell_type": "code",
   "execution_count": 14,
   "metadata": {},
   "outputs": [],
   "source": [
    "model = Sequential(\n",
    "        [\n",
    "        Dense(5,activation='relu',input_dim=5),\n",
    "        Dense(5,activation='relu'),\n",
    "        Dense(5,activation='relu'),\n",
    "        Dense(1,activation=keras.activations.linear)\n",
    "        ]\n",
    ")\n"
   ]
  },
  {
   "cell_type": "code",
   "execution_count": 15,
   "metadata": {},
   "outputs": [],
   "source": [
    "model.compile(optimizer='adam', loss='mean_squared_error',metrics=['mse'])\n",
    "# batch_size: Number of samples per gradient update, defaults to 32"
   ]
  },
  {
   "cell_type": "code",
   "execution_count": 16,
   "metadata": {},
   "outputs": [
    {
     "name": "stdout",
     "output_type": "stream",
     "text": [
      "Epoch 1/100\n",
      "175/175 [==============================] - 1s 4ms/step - loss: 240280368.0000 - mse: 240280368.0000 - val_loss: 237780048.0000 - val_mse: 237780048.0000\n",
      "Epoch 2/100\n",
      "175/175 [==============================] - 0s 3ms/step - loss: 239948384.0000 - mse: 239948384.0000 - val_loss: 236962768.0000 - val_mse: 236962768.0000\n",
      "Epoch 3/100\n",
      "175/175 [==============================] - 1s 4ms/step - loss: 237992416.0000 - mse: 237992416.0000 - val_loss: 233502752.0000 - val_mse: 233502752.0000\n",
      "Epoch 4/100\n",
      "175/175 [==============================] - 0s 3ms/step - loss: 232073632.0000 - mse: 232073632.0000 - val_loss: 224693520.0000 - val_mse: 224693520.0000\n",
      "Epoch 5/100\n",
      "175/175 [==============================] - 0s 2ms/step - loss: 218507600.0000 - mse: 218507600.0000 - val_loss: 205941456.0000 - val_mse: 205941456.0000\n",
      "Epoch 6/100\n",
      "175/175 [==============================] - 0s 3ms/step - loss: 193659584.0000 - mse: 193659584.0000 - val_loss: 175457120.0000 - val_mse: 175457120.0000\n",
      "Epoch 7/100\n",
      "175/175 [==============================] - 0s 2ms/step - loss: 157535744.0000 - mse: 157535744.0000 - val_loss: 135212880.0000 - val_mse: 135212880.0000\n",
      "Epoch 8/100\n",
      "175/175 [==============================] - 1s 4ms/step - loss: 114185928.0000 - mse: 114185928.0000 - val_loss: 91353168.0000 - val_mse: 91353168.0000\n",
      "Epoch 9/100\n",
      "175/175 [==============================] - 0s 3ms/step - loss: 71875112.0000 - mse: 71875112.0000 - val_loss: 53195396.0000 - val_mse: 53195396.0000\n",
      "Epoch 10/100\n",
      "175/175 [==============================] - 0s 2ms/step - loss: 39520620.0000 - mse: 39520620.0000 - val_loss: 28178914.0000 - val_mse: 28178914.0000\n",
      "Epoch 11/100\n",
      "175/175 [==============================] - 0s 2ms/step - loss: 21245346.0000 - mse: 21245346.0000 - val_loss: 16691702.0000 - val_mse: 16691702.0000\n",
      "Epoch 12/100\n",
      "175/175 [==============================] - 0s 2ms/step - loss: 14151013.0000 - mse: 14151013.0000 - val_loss: 13153889.0000 - val_mse: 13153889.0000\n",
      "Epoch 13/100\n",
      "175/175 [==============================] - 0s 2ms/step - loss: 12266598.0000 - mse: 12266598.0000 - val_loss: 12366779.0000 - val_mse: 12366779.0000\n",
      "Epoch 14/100\n",
      "175/175 [==============================] - 0s 2ms/step - loss: 11833419.0000 - mse: 11833419.0000 - val_loss: 12141004.0000 - val_mse: 12141004.0000\n",
      "Epoch 15/100\n",
      "175/175 [==============================] - 0s 2ms/step - loss: 11660366.0000 - mse: 11660366.0000 - val_loss: 11986526.0000 - val_mse: 11986526.0000\n",
      "Epoch 16/100\n",
      "175/175 [==============================] - 0s 2ms/step - loss: 11513561.0000 - mse: 11513561.0000 - val_loss: 11835128.0000 - val_mse: 11835128.0000\n",
      "Epoch 17/100\n",
      "175/175 [==============================] - 0s 2ms/step - loss: 11364464.0000 - mse: 11364464.0000 - val_loss: 11677094.0000 - val_mse: 11677094.0000\n",
      "Epoch 18/100\n",
      "175/175 [==============================] - 0s 2ms/step - loss: 11208996.0000 - mse: 11208996.0000 - val_loss: 11512422.0000 - val_mse: 11512422.0000\n",
      "Epoch 19/100\n",
      "175/175 [==============================] - 0s 2ms/step - loss: 11047634.0000 - mse: 11047634.0000 - val_loss: 11339865.0000 - val_mse: 11339865.0000\n",
      "Epoch 20/100\n",
      "175/175 [==============================] - 0s 2ms/step - loss: 10880824.0000 - mse: 10880824.0000 - val_loss: 11164033.0000 - val_mse: 11164033.0000\n",
      "Epoch 21/100\n",
      "175/175 [==============================] - 0s 2ms/step - loss: 10708593.0000 - mse: 10708593.0000 - val_loss: 10980718.0000 - val_mse: 10980718.0000\n",
      "Epoch 22/100\n",
      "175/175 [==============================] - 0s 2ms/step - loss: 10534088.0000 - mse: 10534088.0000 - val_loss: 10795169.0000 - val_mse: 10795169.0000\n",
      "Epoch 23/100\n",
      "175/175 [==============================] - 0s 2ms/step - loss: 10355114.0000 - mse: 10355114.0000 - val_loss: 10607940.0000 - val_mse: 10607940.0000\n",
      "Epoch 24/100\n",
      "175/175 [==============================] - 0s 2ms/step - loss: 10176511.0000 - mse: 10176511.0000 - val_loss: 10415231.0000 - val_mse: 10415231.0000\n",
      "Epoch 25/100\n",
      "175/175 [==============================] - 0s 2ms/step - loss: 9992768.0000 - mse: 9992768.0000 - val_loss: 10222263.0000 - val_mse: 10222263.0000\n",
      "Epoch 26/100\n",
      "175/175 [==============================] - 0s 2ms/step - loss: 9811358.0000 - mse: 9811358.0000 - val_loss: 10032210.0000 - val_mse: 10032210.0000\n",
      "Epoch 27/100\n",
      "175/175 [==============================] - 0s 2ms/step - loss: 9627364.0000 - mse: 9627364.0000 - val_loss: 9834691.0000 - val_mse: 9834691.0000\n",
      "Epoch 28/100\n",
      "175/175 [==============================] - 0s 2ms/step - loss: 9444628.0000 - mse: 9444628.0000 - val_loss: 9643457.0000 - val_mse: 9643457.0000\n",
      "Epoch 29/100\n",
      "175/175 [==============================] - 0s 2ms/step - loss: 9263530.0000 - mse: 9263530.0000 - val_loss: 9450347.0000 - val_mse: 9450347.0000\n",
      "Epoch 30/100\n",
      "175/175 [==============================] - 0s 2ms/step - loss: 9083613.0000 - mse: 9083613.0000 - val_loss: 9260837.0000 - val_mse: 9260837.0000\n",
      "Epoch 31/100\n",
      "175/175 [==============================] - 0s 2ms/step - loss: 8913109.0000 - mse: 8913109.0000 - val_loss: 9075837.0000 - val_mse: 9075837.0000\n",
      "Epoch 32/100\n",
      "175/175 [==============================] - 0s 2ms/step - loss: 8740076.0000 - mse: 8740076.0000 - val_loss: 8893550.0000 - val_mse: 8893550.0000\n",
      "Epoch 33/100\n",
      "175/175 [==============================] - 0s 2ms/step - loss: 8574240.0000 - mse: 8574240.0000 - val_loss: 8715856.0000 - val_mse: 8715856.0000\n",
      "Epoch 34/100\n",
      "175/175 [==============================] - 1s 3ms/step - loss: 8410892.0000 - mse: 8410892.0000 - val_loss: 8541744.0000 - val_mse: 8541744.0000\n",
      "Epoch 35/100\n",
      "175/175 [==============================] - 0s 2ms/step - loss: 8255966.5000 - mse: 8255966.5000 - val_loss: 8376623.0000 - val_mse: 8376623.0000\n",
      "Epoch 36/100\n",
      "175/175 [==============================] - 0s 2ms/step - loss: 8108326.0000 - mse: 8108326.0000 - val_loss: 8213997.5000 - val_mse: 8213997.5000\n",
      "Epoch 37/100\n",
      "175/175 [==============================] - 1s 4ms/step - loss: 7964079.5000 - mse: 7964079.5000 - val_loss: 8059674.5000 - val_mse: 8059674.5000\n",
      "Epoch 38/100\n",
      "175/175 [==============================] - 0s 2ms/step - loss: 7827988.5000 - mse: 7827988.5000 - val_loss: 7911770.5000 - val_mse: 7911770.5000\n",
      "Epoch 39/100\n",
      "175/175 [==============================] - 0s 2ms/step - loss: 7697524.5000 - mse: 7697524.5000 - val_loss: 7770074.5000 - val_mse: 7770074.5000\n",
      "Epoch 40/100\n",
      "175/175 [==============================] - 0s 2ms/step - loss: 7574651.0000 - mse: 7574651.0000 - val_loss: 7645891.5000 - val_mse: 7645891.5000\n",
      "Epoch 41/100\n",
      "175/175 [==============================] - 0s 2ms/step - loss: 7465631.5000 - mse: 7465631.5000 - val_loss: 7512857.0000 - val_mse: 7512857.0000\n",
      "Epoch 42/100\n",
      "175/175 [==============================] - 0s 2ms/step - loss: 7355303.5000 - mse: 7355303.5000 - val_loss: 7405474.5000 - val_mse: 7405474.5000\n",
      "Epoch 43/100\n",
      "175/175 [==============================] - 0s 2ms/step - loss: 7262176.0000 - mse: 7262176.0000 - val_loss: 7293154.5000 - val_mse: 7293154.5000\n",
      "Epoch 44/100\n",
      "175/175 [==============================] - 1s 3ms/step - loss: 7175965.5000 - mse: 7175965.5000 - val_loss: 7196825.5000 - val_mse: 7196825.5000\n",
      "Epoch 45/100\n",
      "175/175 [==============================] - 0s 3ms/step - loss: 7096152.5000 - mse: 7096152.5000 - val_loss: 7101299.5000 - val_mse: 7101299.5000\n",
      "Epoch 46/100\n",
      "175/175 [==============================] - 1s 3ms/step - loss: 7018684.0000 - mse: 7018684.0000 - val_loss: 7022309.5000 - val_mse: 7022309.5000\n",
      "Epoch 47/100\n",
      "175/175 [==============================] - 1s 4ms/step - loss: 6954995.5000 - mse: 6954995.5000 - val_loss: 6942399.0000 - val_mse: 6942399.0000\n",
      "Epoch 48/100\n",
      "175/175 [==============================] - 0s 2ms/step - loss: 6890868.5000 - mse: 6890868.5000 - val_loss: 6877696.5000 - val_mse: 6877696.5000\n",
      "Epoch 49/100\n",
      "175/175 [==============================] - 1s 3ms/step - loss: 6836619.0000 - mse: 6836619.0000 - val_loss: 6820279.5000 - val_mse: 6820279.5000\n",
      "Epoch 50/100\n",
      "175/175 [==============================] - 0s 2ms/step - loss: 6789972.0000 - mse: 6789972.0000 - val_loss: 6750362.5000 - val_mse: 6750362.5000\n",
      "Epoch 51/100\n",
      "175/175 [==============================] - 0s 2ms/step - loss: 6742922.0000 - mse: 6742922.0000 - val_loss: 6700729.0000 - val_mse: 6700729.0000\n",
      "Epoch 52/100\n",
      "175/175 [==============================] - 0s 2ms/step - loss: 6706004.0000 - mse: 6706004.0000 - val_loss: 6658663.0000 - val_mse: 6658663.0000\n",
      "Epoch 53/100\n",
      "175/175 [==============================] - 1s 4ms/step - loss: 6669227.0000 - mse: 6669227.0000 - val_loss: 6609713.5000 - val_mse: 6609713.5000\n",
      "Epoch 54/100\n",
      "175/175 [==============================] - 1s 4ms/step - loss: 6637145.0000 - mse: 6637145.0000 - val_loss: 6579173.5000 - val_mse: 6579173.5000\n",
      "Epoch 55/100\n",
      "175/175 [==============================] - 0s 3ms/step - loss: 6611525.0000 - mse: 6611525.0000 - val_loss: 6535852.5000 - val_mse: 6535852.5000\n",
      "Epoch 56/100\n",
      "175/175 [==============================] - 0s 3ms/step - loss: 6580594.0000 - mse: 6580594.0000 - val_loss: 6505497.0000 - val_mse: 6505497.0000\n",
      "Epoch 57/100\n",
      "175/175 [==============================] - 0s 2ms/step - loss: 6553929.0000 - mse: 6553929.0000 - val_loss: 6496090.5000 - val_mse: 6496090.5000\n",
      "Epoch 58/100\n",
      "175/175 [==============================] - 0s 2ms/step - loss: 6540281.5000 - mse: 6540281.5000 - val_loss: 6448731.5000 - val_mse: 6448731.5000\n",
      "Epoch 59/100\n",
      "175/175 [==============================] - 0s 2ms/step - loss: 6522581.5000 - mse: 6522581.5000 - val_loss: 6423330.5000 - val_mse: 6423330.5000\n",
      "Epoch 60/100\n",
      "175/175 [==============================] - 0s 2ms/step - loss: 6496302.0000 - mse: 6496302.0000 - val_loss: 6413789.5000 - val_mse: 6413789.5000\n",
      "Epoch 61/100\n",
      "175/175 [==============================] - 0s 3ms/step - loss: 6486098.0000 - mse: 6486098.0000 - val_loss: 6393001.0000 - val_mse: 6393001.0000\n",
      "Epoch 62/100\n",
      "175/175 [==============================] - 1s 3ms/step - loss: 6473211.5000 - mse: 6473211.5000 - val_loss: 6371688.0000 - val_mse: 6371688.0000\n",
      "Epoch 63/100\n",
      "175/175 [==============================] - 1s 3ms/step - loss: 6458779.0000 - mse: 6458779.0000 - val_loss: 6357270.5000 - val_mse: 6357270.5000\n",
      "Epoch 64/100\n",
      "175/175 [==============================] - 0s 2ms/step - loss: 6447622.5000 - mse: 6447622.5000 - val_loss: 6339234.5000 - val_mse: 6339234.5000\n",
      "Epoch 65/100\n",
      "175/175 [==============================] - 0s 2ms/step - loss: 6438379.5000 - mse: 6438379.5000 - val_loss: 6326134.5000 - val_mse: 6326134.5000\n",
      "Epoch 66/100\n",
      "175/175 [==============================] - 0s 2ms/step - loss: 6426021.5000 - mse: 6426021.5000 - val_loss: 6309585.0000 - val_mse: 6309585.0000\n",
      "Epoch 67/100\n",
      "175/175 [==============================] - 1s 3ms/step - loss: 6417449.5000 - mse: 6417449.5000 - val_loss: 6296537.0000 - val_mse: 6296537.0000\n",
      "Epoch 68/100\n",
      "175/175 [==============================] - 0s 3ms/step - loss: 6406446.0000 - mse: 6406446.0000 - val_loss: 6292831.0000 - val_mse: 6292831.0000\n",
      "Epoch 69/100\n",
      "175/175 [==============================] - 1s 3ms/step - loss: 6398508.5000 - mse: 6398508.5000 - val_loss: 6277641.0000 - val_mse: 6277641.0000\n",
      "Epoch 70/100\n",
      "175/175 [==============================] - 0s 2ms/step - loss: 6394304.5000 - mse: 6394304.5000 - val_loss: 6270545.0000 - val_mse: 6270545.0000\n",
      "Epoch 71/100\n",
      "175/175 [==============================] - 1s 3ms/step - loss: 6390310.0000 - mse: 6390310.0000 - val_loss: 6260197.0000 - val_mse: 6260197.0000\n",
      "Epoch 72/100\n",
      "175/175 [==============================] - 1s 3ms/step - loss: 6381362.5000 - mse: 6381362.5000 - val_loss: 6252286.5000 - val_mse: 6252286.5000\n",
      "Epoch 73/100\n",
      "175/175 [==============================] - 0s 3ms/step - loss: 6368885.0000 - mse: 6368885.0000 - val_loss: 6258464.0000 - val_mse: 6258464.0000\n",
      "Epoch 74/100\n",
      "175/175 [==============================] - 1s 3ms/step - loss: 6370862.0000 - mse: 6370862.0000 - val_loss: 6239724.5000 - val_mse: 6239724.5000\n",
      "Epoch 75/100\n",
      "175/175 [==============================] - 1s 3ms/step - loss: 6361643.0000 - mse: 6361643.0000 - val_loss: 6233930.0000 - val_mse: 6233930.0000\n",
      "Epoch 76/100\n",
      "175/175 [==============================] - 0s 2ms/step - loss: 6359634.0000 - mse: 6359634.0000 - val_loss: 6230833.5000 - val_mse: 6230833.5000\n",
      "Epoch 77/100\n",
      "175/175 [==============================] - 0s 2ms/step - loss: 6354512.5000 - mse: 6354512.5000 - val_loss: 6224959.0000 - val_mse: 6224959.0000\n",
      "Epoch 78/100\n",
      "175/175 [==============================] - 0s 2ms/step - loss: 6348438.5000 - mse: 6348438.5000 - val_loss: 6221362.5000 - val_mse: 6221362.5000\n",
      "Epoch 79/100\n",
      "175/175 [==============================] - 1s 3ms/step - loss: 6345783.0000 - mse: 6345783.0000 - val_loss: 6215483.0000 - val_mse: 6215483.0000\n",
      "Epoch 80/100\n",
      "175/175 [==============================] - 0s 2ms/step - loss: 6342534.5000 - mse: 6342534.5000 - val_loss: 6212047.5000 - val_mse: 6212047.5000\n",
      "Epoch 81/100\n",
      "175/175 [==============================] - 0s 2ms/step - loss: 6337467.0000 - mse: 6337467.0000 - val_loss: 6209440.0000 - val_mse: 6209440.0000\n",
      "Epoch 82/100\n",
      "175/175 [==============================] - 0s 2ms/step - loss: 6334545.0000 - mse: 6334545.0000 - val_loss: 6206294.5000 - val_mse: 6206294.5000\n",
      "Epoch 83/100\n",
      "175/175 [==============================] - 0s 3ms/step - loss: 6333773.0000 - mse: 6333773.0000 - val_loss: 6202134.0000 - val_mse: 6202134.0000\n",
      "Epoch 84/100\n",
      "175/175 [==============================] - 0s 2ms/step - loss: 6327904.0000 - mse: 6327904.0000 - val_loss: 6203449.0000 - val_mse: 6203449.0000\n",
      "Epoch 85/100\n",
      "175/175 [==============================] - 0s 2ms/step - loss: 6327203.0000 - mse: 6327203.0000 - val_loss: 6197318.0000 - val_mse: 6197318.0000\n",
      "Epoch 86/100\n",
      "175/175 [==============================] - 0s 2ms/step - loss: 6321997.0000 - mse: 6321997.0000 - val_loss: 6208504.0000 - val_mse: 6208504.0000\n",
      "Epoch 87/100\n",
      "175/175 [==============================] - 0s 2ms/step - loss: 6325534.0000 - mse: 6325534.0000 - val_loss: 6194855.0000 - val_mse: 6194855.0000\n",
      "Epoch 88/100\n",
      "175/175 [==============================] - 0s 2ms/step - loss: 6320341.5000 - mse: 6320341.5000 - val_loss: 6190734.5000 - val_mse: 6190734.5000\n",
      "Epoch 89/100\n",
      "175/175 [==============================] - 1s 3ms/step - loss: 6317849.0000 - mse: 6317849.0000 - val_loss: 6189244.0000 - val_mse: 6189244.0000\n",
      "Epoch 90/100\n",
      "175/175 [==============================] - 1s 3ms/step - loss: 6315586.0000 - mse: 6315586.0000 - val_loss: 6187485.5000 - val_mse: 6187485.5000\n",
      "Epoch 91/100\n",
      "175/175 [==============================] - 0s 2ms/step - loss: 6316888.5000 - mse: 6316888.5000 - val_loss: 6188065.0000 - val_mse: 6188065.0000\n",
      "Epoch 92/100\n",
      "175/175 [==============================] - 0s 3ms/step - loss: 6314389.0000 - mse: 6314389.0000 - val_loss: 6185034.0000 - val_mse: 6185034.0000\n",
      "Epoch 93/100\n",
      "175/175 [==============================] - 0s 2ms/step - loss: 6307912.5000 - mse: 6307912.5000 - val_loss: 6194629.5000 - val_mse: 6194629.5000\n",
      "Epoch 94/100\n",
      "175/175 [==============================] - 0s 2ms/step - loss: 6308324.0000 - mse: 6308324.0000 - val_loss: 6183234.0000 - val_mse: 6183234.0000\n",
      "Epoch 95/100\n",
      "175/175 [==============================] - 0s 2ms/step - loss: 6308542.0000 - mse: 6308542.0000 - val_loss: 6181014.5000 - val_mse: 6181014.5000\n",
      "Epoch 96/100\n",
      "175/175 [==============================] - 1s 3ms/step - loss: 6306929.5000 - mse: 6306929.5000 - val_loss: 6180927.5000 - val_mse: 6180927.5000\n",
      "Epoch 97/100\n",
      "175/175 [==============================] - 1s 3ms/step - loss: 6307316.5000 - mse: 6307316.5000 - val_loss: 6180518.0000 - val_mse: 6180518.0000\n",
      "Epoch 98/100\n",
      "175/175 [==============================] - 1s 3ms/step - loss: 6305245.5000 - mse: 6305245.5000 - val_loss: 6183305.5000 - val_mse: 6183305.5000\n",
      "Epoch 99/100\n",
      "175/175 [==============================] - 0s 2ms/step - loss: 6306953.5000 - mse: 6306953.5000 - val_loss: 6179860.5000 - val_mse: 6179860.5000\n",
      "Epoch 100/100\n",
      "175/175 [==============================] - 0s 3ms/step - loss: 6304932.5000 - mse: 6304932.5000 - val_loss: 6177998.5000 - val_mse: 6177998.5000\n"
     ]
    }
   ],
   "source": [
    "history = model.fit(X_train,y_train,epochs=100,validation_split = 0.2)"
   ]
  },
  {
   "cell_type": "code",
   "execution_count": 17,
   "metadata": {},
   "outputs": [],
   "source": [
    "from sklearn import metrics"
   ]
  },
  {
   "cell_type": "code",
   "execution_count": 18,
   "metadata": {},
   "outputs": [
    {
     "name": "stdout",
     "output_type": "stream",
     "text": [
      "MAE: 1892.9542534951247\n",
      "MSE: 6013468.801363499\n",
      "RMSE: 2452.237509166577\n"
     ]
    }
   ],
   "source": [
    "predictions = model.predict(X_test)\n",
    "print('MAE:', metrics.mean_absolute_error(y_test, predictions))\n",
    "print('MSE:', metrics.mean_squared_error(y_test, predictions))\n",
    "print('RMSE:', np.sqrt(metrics.mean_squared_error(y_test, predictions)))"
   ]
  },
  {
   "cell_type": "code",
   "execution_count": 19,
   "metadata": {},
   "outputs": [
    {
     "data": {
      "text/plain": [
       "(3000,)"
      ]
     },
     "execution_count": 19,
     "metadata": {},
     "output_type": "execute_result"
    }
   ],
   "source": [
    "y_test.shape"
   ]
  },
  {
   "cell_type": "code",
   "execution_count": 20,
   "metadata": {},
   "outputs": [
    {
     "data": {
      "text/plain": [
       "(3000, 1)"
      ]
     },
     "execution_count": 20,
     "metadata": {},
     "output_type": "execute_result"
    }
   ],
   "source": [
    "predictions.shape"
   ]
  },
  {
   "cell_type": "code",
   "execution_count": 21,
   "metadata": {},
   "outputs": [
    {
     "data": {
      "image/png": "[encoded data removed]",
      "text/plain": [
       "<Figure size 864x432 with 1 Axes>"
      ]
     },
     "metadata": {
      "needs_background": "light"
     },
     "output_type": "display_data"
    }
   ],
   "source": [
    "plt.figure(figsize=(12,6))\n",
    "sns.distplot((y_test-predictions.reshape(3000,)));"
   ]
  },
  {
   "cell_type": "code",
   "execution_count": 22,
   "metadata": {},
   "outputs": [],
   "source": [
    "losses = pd.DataFrame(history.history)"
   ]
  },
  {
   "cell_type": "code",
   "execution_count": 23,
   "metadata": {},
   "outputs": [
    {
     "data": {
      "text/html": [
       "<div>\n",
       "<style scoped>\n",
       "    .dataframe tbody tr th:only-of-type {\n",
       "        vertical-align: middle;\n",
       "    }\n",
       "\n",
       "    .dataframe tbody tr th {\n",
       "        vertical-align: top;\n",
       "    }\n",
       "\n",
       "    .dataframe thead th {\n",
       "        text-align: right;\n",
       "    }\n",
       "</style>\n",
       "<table border=\"1\" class=\"dataframe\">\n",
       "  <thead>\n",
       "    <tr style=\"text-align: right;\">\n",
       "      <th></th>\n",
       "      <th>loss</th>\n",
       "      <th>mse</th>\n",
       "      <th>val_loss</th>\n",
       "      <th>val_mse</th>\n",
       "    </tr>\n",
       "  </thead>\n",
       "  <tbody>\n",
       "    <tr>\n",
       "      <th>0</th>\n",
       "      <td>240280368.0</td>\n",
       "      <td>240280368.0</td>\n",
       "      <td>237780048.0</td>\n",
       "      <td>237780048.0</td>\n",
       "    </tr>\n",
       "    <tr>\n",
       "      <th>1</th>\n",
       "      <td>239948384.0</td>\n",
       "      <td>239948384.0</td>\n",
       "      <td>236962768.0</td>\n",
       "      <td>236962768.0</td>\n",
       "    </tr>\n",
       "    <tr>\n",
       "      <th>2</th>\n",
       "      <td>237992416.0</td>\n",
       "      <td>237992416.0</td>\n",
       "      <td>233502752.0</td>\n",
       "      <td>233502752.0</td>\n",
       "    </tr>\n",
       "    <tr>\n",
       "      <th>3</th>\n",
       "      <td>232073632.0</td>\n",
       "      <td>232073632.0</td>\n",
       "      <td>224693520.0</td>\n",
       "      <td>224693520.0</td>\n",
       "    </tr>\n",
       "    <tr>\n",
       "      <th>4</th>\n",
       "      <td>218507600.0</td>\n",
       "      <td>218507600.0</td>\n",
       "      <td>205941456.0</td>\n",
       "      <td>205941456.0</td>\n",
       "    </tr>\n",
       "    <tr>\n",
       "      <th>...</th>\n",
       "      <td>...</td>\n",
       "      <td>...</td>\n",
       "      <td>...</td>\n",
       "      <td>...</td>\n",
       "    </tr>\n",
       "    <tr>\n",
       "      <th>95</th>\n",
       "      <td>6306929.5</td>\n",
       "      <td>6306929.5</td>\n",
       "      <td>6180927.5</td>\n",
       "      <td>6180927.5</td>\n",
       "    </tr>\n",
       "    <tr>\n",
       "      <th>96</th>\n",
       "      <td>6307316.5</td>\n",
       "      <td>6307316.5</td>\n",
       "      <td>6180518.0</td>\n",
       "      <td>6180518.0</td>\n",
       "    </tr>\n",
       "    <tr>\n",
       "      <th>97</th>\n",
       "      <td>6305245.5</td>\n",
       "      <td>6305245.5</td>\n",
       "      <td>6183305.5</td>\n",
       "      <td>6183305.5</td>\n",
       "    </tr>\n",
       "    <tr>\n",
       "      <th>98</th>\n",
       "      <td>6306953.5</td>\n",
       "      <td>6306953.5</td>\n",
       "      <td>6179860.5</td>\n",
       "      <td>6179860.5</td>\n",
       "    </tr>\n",
       "    <tr>\n",
       "      <th>99</th>\n",
       "      <td>6304932.5</td>\n",
       "      <td>6304932.5</td>\n",
       "      <td>6177998.5</td>\n",
       "      <td>6177998.5</td>\n",
       "    </tr>\n",
       "  </tbody>\n",
       "</table>\n",
       "<p>100 rows × 4 columns</p>\n",
       "</div>"
      ],
      "text/plain": [
       "           loss          mse     val_loss      val_mse\n",
       "0   240280368.0  240280368.0  237780048.0  237780048.0\n",
       "1   239948384.0  239948384.0  236962768.0  236962768.0\n",
       "2   237992416.0  237992416.0  233502752.0  233502752.0\n",
       "3   232073632.0  232073632.0  224693520.0  224693520.0\n",
       "4   218507600.0  218507600.0  205941456.0  205941456.0\n",
       "..          ...          ...          ...          ...\n",
       "95    6306929.5    6306929.5    6180927.5    6180927.5\n",
       "96    6307316.5    6307316.5    6180518.0    6180518.0\n",
       "97    6305245.5    6305245.5    6183305.5    6183305.5\n",
       "98    6306953.5    6306953.5    6179860.5    6179860.5\n",
       "99    6304932.5    6304932.5    6177998.5    6177998.5\n",
       "\n",
       "[100 rows x 4 columns]"
      ]
     },
     "execution_count": 23,
     "metadata": {},
     "output_type": "execute_result"
    }
   ],
   "source": [
    "losses"
   ]
  },
  {
   "cell_type": "code",
   "execution_count": 24,
   "metadata": {},
   "outputs": [
    {
     "data": {
      "text/plain": [
       "<matplotlib.legend.Legend at 0x7ffb2c17a210>"
      ]
     },
     "execution_count": 24,
     "metadata": {},
     "output_type": "execute_result"
    },
    {
     "data": {
      "image/png": "[encoded data removed]",
      "text/plain": [
       "<Figure size 576x432 with 1 Axes>"
      ]
     },
     "metadata": {
      "needs_background": "light"
     },
     "output_type": "display_data"
    }
   ],
   "source": [
    "plt.figure(figsize=(8,6))\n",
    "plt.xlabel('Epochs')\n",
    "plt.ylabel('Loss')\n",
    "losses['loss'].plot(label='Training Loss')\n",
    "losses['val_loss'].plot(label='Validation Loss')\n",
    "plt.legend(loc='center')"
   ]
  },
  {
   "cell_type": "markdown",
   "metadata": {},
   "source": [
    "Happy Learning!"
   ]
  }
 ],
 "metadata": {
  "kernelspec": {
   "display_name": "Python 3",
   "language": "python",
   "name": "python3"
  },
  "language_info": {
   "codemirror_mode": {
    "name": "ipython",
    "version": 3
   },
   "file_extension": ".py",
   "mimetype": "text/x-python",
   "name": "python",
   "nbconvert_exporter": "python",
   "pygments_lexer": "ipython3",
   "version": "3.7.6"
  }
 },
 "nbformat": 4,
 "nbformat_minor": 4
}
