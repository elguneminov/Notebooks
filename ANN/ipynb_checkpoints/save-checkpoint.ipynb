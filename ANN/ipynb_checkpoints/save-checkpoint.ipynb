{
 "cells": [
  {
   "cell_type": "markdown",
   "metadata": {},
   "source": [
    "# Deep Learning with TensorFlow"
   ]
  },
  {
   "cell_type": "markdown",
   "metadata": {},
   "source": [
    "![Namespace Logo](../labs.png)"
   ]
  },
  {
   "cell_type": "code",
   "execution_count": 1,
   "metadata": {},
   "outputs": [],
   "source": [
    "import pandas as pd\n",
    "import matplotlib.pyplot as plt\n",
    "import seaborn as sns"
   ]
  },
  {
   "cell_type": "code",
   "execution_count": 2,
   "metadata": {},
   "outputs": [],
   "source": [
    "df = pd.read_csv('transfusion.data')"
   ]
  },
  {
   "cell_type": "code",
   "execution_count": 3,
   "metadata": {},
   "outputs": [
    {
     "data": {
      "text/html": [
       "<div>\n",
       "<style scoped>\n",
       "    .dataframe tbody tr th:only-of-type {\n",
       "        vertical-align: middle;\n",
       "    }\n",
       "\n",
       "    .dataframe tbody tr th {\n",
       "        vertical-align: top;\n",
       "    }\n",
       "\n",
       "    .dataframe thead th {\n",
       "        text-align: right;\n",
       "    }\n",
       "</style>\n",
       "<table border=\"1\" class=\"dataframe\">\n",
       "  <thead>\n",
       "    <tr style=\"text-align: right;\">\n",
       "      <th></th>\n",
       "      <th>Recency (months)</th>\n",
       "      <th>Frequency (times)</th>\n",
       "      <th>Monetary (c.c. blood)</th>\n",
       "      <th>Time (months)</th>\n",
       "      <th>whether he/she donated blood in March 2007</th>\n",
       "    </tr>\n",
       "  </thead>\n",
       "  <tbody>\n",
       "    <tr>\n",
       "      <th>0</th>\n",
       "      <td>2</td>\n",
       "      <td>50</td>\n",
       "      <td>12500</td>\n",
       "      <td>98</td>\n",
       "      <td>1</td>\n",
       "    </tr>\n",
       "    <tr>\n",
       "      <th>1</th>\n",
       "      <td>0</td>\n",
       "      <td>13</td>\n",
       "      <td>3250</td>\n",
       "      <td>28</td>\n",
       "      <td>1</td>\n",
       "    </tr>\n",
       "    <tr>\n",
       "      <th>2</th>\n",
       "      <td>1</td>\n",
       "      <td>16</td>\n",
       "      <td>4000</td>\n",
       "      <td>35</td>\n",
       "      <td>1</td>\n",
       "    </tr>\n",
       "    <tr>\n",
       "      <th>3</th>\n",
       "      <td>2</td>\n",
       "      <td>20</td>\n",
       "      <td>5000</td>\n",
       "      <td>45</td>\n",
       "      <td>1</td>\n",
       "    </tr>\n",
       "    <tr>\n",
       "      <th>4</th>\n",
       "      <td>1</td>\n",
       "      <td>24</td>\n",
       "      <td>6000</td>\n",
       "      <td>77</td>\n",
       "      <td>0</td>\n",
       "    </tr>\n",
       "  </tbody>\n",
       "</table>\n",
       "</div>"
      ],
      "text/plain": [
       "   Recency (months)  Frequency (times)  Monetary (c.c. blood)  Time (months)  \\\n",
       "0                 2                 50                  12500             98   \n",
       "1                 0                 13                   3250             28   \n",
       "2                 1                 16                   4000             35   \n",
       "3                 2                 20                   5000             45   \n",
       "4                 1                 24                   6000             77   \n",
       "\n",
       "   whether he/she donated blood in March 2007  \n",
       "0                                           1  \n",
       "1                                           1  \n",
       "2                                           1  \n",
       "3                                           1  \n",
       "4                                           0  "
      ]
     },
     "execution_count": 3,
     "metadata": {},
     "output_type": "execute_result"
    }
   ],
   "source": [
    "df.head()"
   ]
  },
  {
   "cell_type": "code",
   "execution_count": 4,
   "metadata": {},
   "outputs": [
    {
     "data": {
      "text/html": [
       "<div>\n",
       "<style scoped>\n",
       "    .dataframe tbody tr th:only-of-type {\n",
       "        vertical-align: middle;\n",
       "    }\n",
       "\n",
       "    .dataframe tbody tr th {\n",
       "        vertical-align: top;\n",
       "    }\n",
       "\n",
       "    .dataframe thead th {\n",
       "        text-align: right;\n",
       "    }\n",
       "</style>\n",
       "<table border=\"1\" class=\"dataframe\">\n",
       "  <thead>\n",
       "    <tr style=\"text-align: right;\">\n",
       "      <th></th>\n",
       "      <th>Recency (months)</th>\n",
       "      <th>Frequency (times)</th>\n",
       "      <th>Monetary (c.c. blood)</th>\n",
       "      <th>Time (months)</th>\n",
       "      <th>whether he/she donated blood in March 2007</th>\n",
       "    </tr>\n",
       "  </thead>\n",
       "  <tbody>\n",
       "    <tr>\n",
       "      <th>count</th>\n",
       "      <td>748.000000</td>\n",
       "      <td>748.000000</td>\n",
       "      <td>748.000000</td>\n",
       "      <td>748.000000</td>\n",
       "      <td>748.000000</td>\n",
       "    </tr>\n",
       "    <tr>\n",
       "      <th>mean</th>\n",
       "      <td>9.506684</td>\n",
       "      <td>5.514706</td>\n",
       "      <td>1378.676471</td>\n",
       "      <td>34.282086</td>\n",
       "      <td>0.237968</td>\n",
       "    </tr>\n",
       "    <tr>\n",
       "      <th>std</th>\n",
       "      <td>8.095396</td>\n",
       "      <td>5.839307</td>\n",
       "      <td>1459.826781</td>\n",
       "      <td>24.376714</td>\n",
       "      <td>0.426124</td>\n",
       "    </tr>\n",
       "    <tr>\n",
       "      <th>min</th>\n",
       "      <td>0.000000</td>\n",
       "      <td>1.000000</td>\n",
       "      <td>250.000000</td>\n",
       "      <td>2.000000</td>\n",
       "      <td>0.000000</td>\n",
       "    </tr>\n",
       "    <tr>\n",
       "      <th>25%</th>\n",
       "      <td>2.750000</td>\n",
       "      <td>2.000000</td>\n",
       "      <td>500.000000</td>\n",
       "      <td>16.000000</td>\n",
       "      <td>0.000000</td>\n",
       "    </tr>\n",
       "    <tr>\n",
       "      <th>50%</th>\n",
       "      <td>7.000000</td>\n",
       "      <td>4.000000</td>\n",
       "      <td>1000.000000</td>\n",
       "      <td>28.000000</td>\n",
       "      <td>0.000000</td>\n",
       "    </tr>\n",
       "    <tr>\n",
       "      <th>75%</th>\n",
       "      <td>14.000000</td>\n",
       "      <td>7.000000</td>\n",
       "      <td>1750.000000</td>\n",
       "      <td>50.000000</td>\n",
       "      <td>0.000000</td>\n",
       "    </tr>\n",
       "    <tr>\n",
       "      <th>max</th>\n",
       "      <td>74.000000</td>\n",
       "      <td>50.000000</td>\n",
       "      <td>12500.000000</td>\n",
       "      <td>98.000000</td>\n",
       "      <td>1.000000</td>\n",
       "    </tr>\n",
       "  </tbody>\n",
       "</table>\n",
       "</div>"
      ],
      "text/plain": [
       "       Recency (months)  Frequency (times)  Monetary (c.c. blood)  \\\n",
       "count        748.000000         748.000000             748.000000   \n",
       "mean           9.506684           5.514706            1378.676471   \n",
       "std            8.095396           5.839307            1459.826781   \n",
       "min            0.000000           1.000000             250.000000   \n",
       "25%            2.750000           2.000000             500.000000   \n",
       "50%            7.000000           4.000000            1000.000000   \n",
       "75%           14.000000           7.000000            1750.000000   \n",
       "max           74.000000          50.000000           12500.000000   \n",
       "\n",
       "       Time (months)  whether he/she donated blood in March 2007  \n",
       "count     748.000000                                  748.000000  \n",
       "mean       34.282086                                    0.237968  \n",
       "std        24.376714                                    0.426124  \n",
       "min         2.000000                                    0.000000  \n",
       "25%        16.000000                                    0.000000  \n",
       "50%        28.000000                                    0.000000  \n",
       "75%        50.000000                                    0.000000  \n",
       "max        98.000000                                    1.000000  "
      ]
     },
     "execution_count": 4,
     "metadata": {},
     "output_type": "execute_result"
    }
   ],
   "source": [
    "df.describe()"
   ]
  },
  {
   "cell_type": "code",
   "execution_count": 5,
   "metadata": {},
   "outputs": [],
   "source": [
    "X = df.drop(['whether he/she donated blood in March 2007'],axis=1)"
   ]
  },
  {
   "cell_type": "code",
   "execution_count": 6,
   "metadata": {},
   "outputs": [],
   "source": [
    "y = df['whether he/she donated blood in March 2007']"
   ]
  },
  {
   "cell_type": "code",
   "execution_count": 7,
   "metadata": {},
   "outputs": [],
   "source": [
    "from sklearn.model_selection import train_test_split"
   ]
  },
  {
   "cell_type": "code",
   "execution_count": 8,
   "metadata": {},
   "outputs": [],
   "source": [
    "X_train, X_test, y_train, y_test = train_test_split(X, y, test_size=0.30, random_state=101)"
   ]
  },
  {
   "cell_type": "code",
   "execution_count": 9,
   "metadata": {},
   "outputs": [],
   "source": [
    "from sklearn.preprocessing import MinMaxScaler"
   ]
  },
  {
   "cell_type": "code",
   "execution_count": 10,
   "metadata": {},
   "outputs": [],
   "source": [
    "sc = MinMaxScaler()"
   ]
  },
  {
   "cell_type": "code",
   "execution_count": 11,
   "metadata": {},
   "outputs": [],
   "source": [
    "X_train = sc.fit_transform(X_train)"
   ]
  },
  {
   "cell_type": "code",
   "execution_count": 12,
   "metadata": {},
   "outputs": [],
   "source": [
    "X_test = sc.transform(X_test)"
   ]
  },
  {
   "cell_type": "code",
   "execution_count": 13,
   "metadata": {},
   "outputs": [],
   "source": [
    "from tensorflow import keras\n",
    "from tensorflow.keras.layers import Dense,Dropout"
   ]
  },
  {
   "cell_type": "code",
   "execution_count": 14,
   "metadata": {},
   "outputs": [],
   "source": [
    "model = keras.Sequential([\n",
    "    \n",
    "        Dense(20,activation='relu',input_dim=4),\n",
    "        Dense(15,activation='relu'),\n",
    "        Dropout(0.2),\n",
    "        Dense(25,activation='relu'),\n",
    "        Dense(1,activation=keras.activations.sigmoid)\n",
    "])\n"
   ]
  },
  {
   "cell_type": "code",
   "execution_count": 15,
   "metadata": {},
   "outputs": [],
   "source": [
    "model.compile(optimizer='adam', loss='binary_crossentropy',metrics=['accuracy'])"
   ]
  },
  {
   "cell_type": "code",
   "execution_count": 16,
   "metadata": {},
   "outputs": [],
   "source": [
    "from tensorflow.keras.callbacks import EarlyStopping"
   ]
  },
  {
   "cell_type": "code",
   "execution_count": 17,
   "metadata": {},
   "outputs": [],
   "source": [
    "callbacks = [\n",
    "            EarlyStopping(patience = 20,mode='min',monitor='val_loss')\n",
    "            ]"
   ]
  },
  {
   "cell_type": "code",
   "execution_count": 18,
   "metadata": {},
   "outputs": [
    {
     "name": "stdout",
     "output_type": "stream",
     "text": [
      "Epoch 1/600\n",
      "17/17 [==============================] - 0s 15ms/step - loss: 0.6706 - accuracy: 0.7553 - val_loss: 0.6445 - val_accuracy: 0.7467\n",
      "Epoch 2/600\n",
      "17/17 [==============================] - 0s 4ms/step - loss: 0.6274 - accuracy: 0.7686 - val_loss: 0.5993 - val_accuracy: 0.7467\n",
      "Epoch 3/600\n",
      "17/17 [==============================] - 0s 4ms/step - loss: 0.5835 - accuracy: 0.7686 - val_loss: 0.5598 - val_accuracy: 0.7467\n",
      "Epoch 4/600\n",
      "17/17 [==============================] - 0s 3ms/step - loss: 0.5481 - accuracy: 0.7686 - val_loss: 0.5385 - val_accuracy: 0.7467\n",
      "Epoch 5/600\n",
      "17/17 [==============================] - 0s 6ms/step - loss: 0.5233 - accuracy: 0.7686 - val_loss: 0.5301 - val_accuracy: 0.7467\n",
      "Epoch 6/600\n",
      "17/17 [==============================] - 0s 6ms/step - loss: 0.5214 - accuracy: 0.7686 - val_loss: 0.5225 - val_accuracy: 0.7467\n",
      "Epoch 7/600\n",
      "17/17 [==============================] - 0s 7ms/step - loss: 0.5030 - accuracy: 0.7686 - val_loss: 0.5157 - val_accuracy: 0.7467\n",
      "Epoch 8/600\n",
      "17/17 [==============================] - 0s 6ms/step - loss: 0.5033 - accuracy: 0.7706 - val_loss: 0.5099 - val_accuracy: 0.7467\n",
      "Epoch 9/600\n",
      "17/17 [==============================] - 0s 5ms/step - loss: 0.4955 - accuracy: 0.7706 - val_loss: 0.5051 - val_accuracy: 0.7467\n",
      "Epoch 10/600\n",
      "17/17 [==============================] - 0s 3ms/step - loss: 0.4841 - accuracy: 0.7725 - val_loss: 0.5020 - val_accuracy: 0.7467\n",
      "Epoch 11/600\n",
      "17/17 [==============================] - 0s 3ms/step - loss: 0.4928 - accuracy: 0.7706 - val_loss: 0.4967 - val_accuracy: 0.7467\n",
      "Epoch 12/600\n",
      "17/17 [==============================] - 0s 4ms/step - loss: 0.4859 - accuracy: 0.7744 - val_loss: 0.4946 - val_accuracy: 0.7422\n",
      "Epoch 13/600\n",
      "17/17 [==============================] - 0s 4ms/step - loss: 0.4768 - accuracy: 0.7763 - val_loss: 0.4914 - val_accuracy: 0.7467\n",
      "Epoch 14/600\n",
      "17/17 [==============================] - 0s 3ms/step - loss: 0.4800 - accuracy: 0.7782 - val_loss: 0.4903 - val_accuracy: 0.7511\n",
      "Epoch 15/600\n",
      "17/17 [==============================] - 0s 3ms/step - loss: 0.4807 - accuracy: 0.7820 - val_loss: 0.4902 - val_accuracy: 0.7511\n",
      "Epoch 16/600\n",
      "17/17 [==============================] - 0s 3ms/step - loss: 0.4740 - accuracy: 0.7801 - val_loss: 0.4889 - val_accuracy: 0.7511\n",
      "Epoch 17/600\n",
      "17/17 [==============================] - 0s 4ms/step - loss: 0.4814 - accuracy: 0.7744 - val_loss: 0.4862 - val_accuracy: 0.7511\n",
      "Epoch 18/600\n",
      "17/17 [==============================] - 0s 4ms/step - loss: 0.4810 - accuracy: 0.7859 - val_loss: 0.4860 - val_accuracy: 0.7511\n",
      "Epoch 19/600\n",
      "17/17 [==============================] - 0s 6ms/step - loss: 0.4730 - accuracy: 0.7820 - val_loss: 0.4862 - val_accuracy: 0.7511\n",
      "Epoch 20/600\n",
      "17/17 [==============================] - 0s 6ms/step - loss: 0.4792 - accuracy: 0.7801 - val_loss: 0.4853 - val_accuracy: 0.7511\n",
      "Epoch 21/600\n",
      "17/17 [==============================] - 0s 6ms/step - loss: 0.4699 - accuracy: 0.7820 - val_loss: 0.4846 - val_accuracy: 0.7511\n",
      "Epoch 22/600\n",
      "17/17 [==============================] - 0s 5ms/step - loss: 0.4782 - accuracy: 0.7839 - val_loss: 0.4856 - val_accuracy: 0.7511\n",
      "Epoch 23/600\n",
      "17/17 [==============================] - 0s 5ms/step - loss: 0.4771 - accuracy: 0.7763 - val_loss: 0.4847 - val_accuracy: 0.7511\n",
      "Epoch 24/600\n",
      "17/17 [==============================] - 0s 7ms/step - loss: 0.4718 - accuracy: 0.7916 - val_loss: 0.4842 - val_accuracy: 0.7556\n",
      "Epoch 25/600\n",
      "17/17 [==============================] - 0s 7ms/step - loss: 0.4742 - accuracy: 0.7897 - val_loss: 0.4841 - val_accuracy: 0.7644\n",
      "Epoch 26/600\n",
      "17/17 [==============================] - 0s 7ms/step - loss: 0.4752 - accuracy: 0.7763 - val_loss: 0.4830 - val_accuracy: 0.7733\n",
      "Epoch 27/600\n",
      "17/17 [==============================] - 0s 10ms/step - loss: 0.4755 - accuracy: 0.7859 - val_loss: 0.4833 - val_accuracy: 0.7733\n",
      "Epoch 28/600\n",
      "17/17 [==============================] - 0s 12ms/step - loss: 0.4741 - accuracy: 0.7820 - val_loss: 0.4845 - val_accuracy: 0.7733\n",
      "Epoch 29/600\n",
      "17/17 [==============================] - 0s 7ms/step - loss: 0.4773 - accuracy: 0.7686 - val_loss: 0.4828 - val_accuracy: 0.7733\n",
      "Epoch 30/600\n",
      "17/17 [==============================] - 0s 7ms/step - loss: 0.4771 - accuracy: 0.7839 - val_loss: 0.4850 - val_accuracy: 0.7556\n",
      "Epoch 31/600\n",
      "17/17 [==============================] - 0s 8ms/step - loss: 0.4737 - accuracy: 0.7820 - val_loss: 0.4825 - val_accuracy: 0.7733\n",
      "Epoch 32/600\n",
      "17/17 [==============================] - 0s 7ms/step - loss: 0.4738 - accuracy: 0.7859 - val_loss: 0.4827 - val_accuracy: 0.7733\n",
      "Epoch 33/600\n",
      "17/17 [==============================] - 0s 7ms/step - loss: 0.4759 - accuracy: 0.7878 - val_loss: 0.4822 - val_accuracy: 0.7644\n",
      "Epoch 34/600\n",
      "17/17 [==============================] - 0s 5ms/step - loss: 0.4832 - accuracy: 0.7782 - val_loss: 0.4814 - val_accuracy: 0.7778\n",
      "Epoch 35/600\n",
      "17/17 [==============================] - 0s 7ms/step - loss: 0.4690 - accuracy: 0.7878 - val_loss: 0.4826 - val_accuracy: 0.7556\n",
      "Epoch 36/600\n",
      "17/17 [==============================] - 0s 7ms/step - loss: 0.4683 - accuracy: 0.7859 - val_loss: 0.4822 - val_accuracy: 0.7733\n",
      "Epoch 37/600\n",
      "17/17 [==============================] - 0s 8ms/step - loss: 0.4698 - accuracy: 0.7897 - val_loss: 0.4803 - val_accuracy: 0.7822\n",
      "Epoch 38/600\n",
      "17/17 [==============================] - 0s 8ms/step - loss: 0.4736 - accuracy: 0.7763 - val_loss: 0.4813 - val_accuracy: 0.7778\n",
      "Epoch 39/600\n",
      "17/17 [==============================] - 0s 7ms/step - loss: 0.4663 - accuracy: 0.7878 - val_loss: 0.4831 - val_accuracy: 0.7778\n",
      "Epoch 40/600\n",
      "17/17 [==============================] - 0s 6ms/step - loss: 0.4691 - accuracy: 0.7916 - val_loss: 0.4822 - val_accuracy: 0.7733\n",
      "Epoch 41/600\n",
      "17/17 [==============================] - 0s 17ms/step - loss: 0.4709 - accuracy: 0.7897 - val_loss: 0.4816 - val_accuracy: 0.7778\n",
      "Epoch 42/600\n",
      "17/17 [==============================] - 0s 16ms/step - loss: 0.4698 - accuracy: 0.7878 - val_loss: 0.4804 - val_accuracy: 0.7733\n",
      "Epoch 43/600\n",
      "17/17 [==============================] - 0s 7ms/step - loss: 0.4675 - accuracy: 0.7801 - val_loss: 0.4805 - val_accuracy: 0.7733\n",
      "Epoch 44/600\n",
      "17/17 [==============================] - 0s 5ms/step - loss: 0.4692 - accuracy: 0.7839 - val_loss: 0.4805 - val_accuracy: 0.7822\n",
      "Epoch 45/600\n",
      "17/17 [==============================] - 0s 8ms/step - loss: 0.4644 - accuracy: 0.7878 - val_loss: 0.4803 - val_accuracy: 0.7733\n",
      "Epoch 46/600\n",
      "17/17 [==============================] - 0s 9ms/step - loss: 0.4649 - accuracy: 0.7878 - val_loss: 0.4822 - val_accuracy: 0.7822\n",
      "Epoch 47/600\n",
      "17/17 [==============================] - 0s 9ms/step - loss: 0.4719 - accuracy: 0.7801 - val_loss: 0.4803 - val_accuracy: 0.7822\n",
      "Epoch 48/600\n",
      "17/17 [==============================] - 0s 17ms/step - loss: 0.4676 - accuracy: 0.7897 - val_loss: 0.4794 - val_accuracy: 0.7778\n",
      "Epoch 49/600\n",
      "17/17 [==============================] - 0s 9ms/step - loss: 0.4697 - accuracy: 0.7839 - val_loss: 0.4803 - val_accuracy: 0.7733\n",
      "Epoch 50/600\n",
      "17/17 [==============================] - 0s 9ms/step - loss: 0.4664 - accuracy: 0.7935 - val_loss: 0.4788 - val_accuracy: 0.7822\n",
      "Epoch 51/600\n",
      "17/17 [==============================] - 0s 10ms/step - loss: 0.4657 - accuracy: 0.7859 - val_loss: 0.4794 - val_accuracy: 0.7733\n",
      "Epoch 52/600\n",
      "17/17 [==============================] - 0s 8ms/step - loss: 0.4631 - accuracy: 0.7935 - val_loss: 0.4781 - val_accuracy: 0.7778\n",
      "Epoch 53/600\n",
      "17/17 [==============================] - 0s 11ms/step - loss: 0.4734 - accuracy: 0.7859 - val_loss: 0.4776 - val_accuracy: 0.7778\n",
      "Epoch 54/600\n",
      "17/17 [==============================] - 0s 11ms/step - loss: 0.4724 - accuracy: 0.7801 - val_loss: 0.4777 - val_accuracy: 0.7778\n",
      "Epoch 55/600\n",
      "17/17 [==============================] - 0s 10ms/step - loss: 0.4666 - accuracy: 0.7839 - val_loss: 0.4781 - val_accuracy: 0.7778\n",
      "Epoch 56/600\n",
      "17/17 [==============================] - 0s 12ms/step - loss: 0.4694 - accuracy: 0.7820 - val_loss: 0.4783 - val_accuracy: 0.7778\n",
      "Epoch 57/600\n",
      "17/17 [==============================] - 0s 10ms/step - loss: 0.4666 - accuracy: 0.7973 - val_loss: 0.4764 - val_accuracy: 0.7822\n",
      "Epoch 58/600\n",
      "17/17 [==============================] - 0s 16ms/step - loss: 0.4717 - accuracy: 0.7859 - val_loss: 0.4778 - val_accuracy: 0.7778\n",
      "Epoch 59/600\n",
      "17/17 [==============================] - 0s 13ms/step - loss: 0.4686 - accuracy: 0.7916 - val_loss: 0.4791 - val_accuracy: 0.7778\n",
      "Epoch 60/600\n",
      "17/17 [==============================] - 0s 14ms/step - loss: 0.4687 - accuracy: 0.7801 - val_loss: 0.4776 - val_accuracy: 0.7822\n",
      "Epoch 61/600\n",
      "17/17 [==============================] - 0s 8ms/step - loss: 0.4684 - accuracy: 0.7878 - val_loss: 0.4774 - val_accuracy: 0.7867\n",
      "Epoch 62/600\n",
      "17/17 [==============================] - 0s 6ms/step - loss: 0.4650 - accuracy: 0.7744 - val_loss: 0.4788 - val_accuracy: 0.7778\n",
      "Epoch 63/600\n",
      "17/17 [==============================] - 0s 5ms/step - loss: 0.4674 - accuracy: 0.7859 - val_loss: 0.4777 - val_accuracy: 0.7778\n",
      "Epoch 64/600\n",
      "17/17 [==============================] - 0s 6ms/step - loss: 0.4656 - accuracy: 0.7859 - val_loss: 0.4776 - val_accuracy: 0.7867\n",
      "Epoch 65/600\n",
      "17/17 [==============================] - 0s 10ms/step - loss: 0.4758 - accuracy: 0.7801 - val_loss: 0.4784 - val_accuracy: 0.7822\n",
      "Epoch 66/600\n",
      "17/17 [==============================] - 0s 7ms/step - loss: 0.4674 - accuracy: 0.7839 - val_loss: 0.4791 - val_accuracy: 0.7778\n",
      "Epoch 67/600\n",
      "17/17 [==============================] - 0s 7ms/step - loss: 0.4628 - accuracy: 0.7954 - val_loss: 0.4793 - val_accuracy: 0.7778\n",
      "Epoch 68/600\n",
      "17/17 [==============================] - 0s 7ms/step - loss: 0.4728 - accuracy: 0.7916 - val_loss: 0.4768 - val_accuracy: 0.7867\n",
      "Epoch 69/600\n",
      "17/17 [==============================] - 0s 5ms/step - loss: 0.4700 - accuracy: 0.7878 - val_loss: 0.4782 - val_accuracy: 0.7822\n",
      "Epoch 70/600\n",
      "17/17 [==============================] - 0s 5ms/step - loss: 0.4655 - accuracy: 0.7878 - val_loss: 0.4784 - val_accuracy: 0.7778\n",
      "Epoch 71/600\n",
      "17/17 [==============================] - 0s 9ms/step - loss: 0.4645 - accuracy: 0.7878 - val_loss: 0.4789 - val_accuracy: 0.7778\n",
      "Epoch 72/600\n",
      "17/17 [==============================] - 0s 8ms/step - loss: 0.4639 - accuracy: 0.7916 - val_loss: 0.4761 - val_accuracy: 0.7867\n",
      "Epoch 73/600\n",
      "17/17 [==============================] - 0s 4ms/step - loss: 0.4687 - accuracy: 0.7878 - val_loss: 0.4792 - val_accuracy: 0.7822\n",
      "Epoch 74/600\n",
      "17/17 [==============================] - 0s 4ms/step - loss: 0.4669 - accuracy: 0.7820 - val_loss: 0.4780 - val_accuracy: 0.7822\n",
      "Epoch 75/600\n",
      "17/17 [==============================] - 0s 5ms/step - loss: 0.4704 - accuracy: 0.7878 - val_loss: 0.4781 - val_accuracy: 0.7822\n",
      "Epoch 76/600\n",
      "17/17 [==============================] - 0s 6ms/step - loss: 0.4753 - accuracy: 0.7839 - val_loss: 0.4757 - val_accuracy: 0.7822\n",
      "Epoch 77/600\n",
      "17/17 [==============================] - 0s 6ms/step - loss: 0.4708 - accuracy: 0.7820 - val_loss: 0.4775 - val_accuracy: 0.7778\n",
      "Epoch 78/600\n",
      "17/17 [==============================] - 0s 4ms/step - loss: 0.4696 - accuracy: 0.7916 - val_loss: 0.4774 - val_accuracy: 0.7778\n",
      "Epoch 79/600\n",
      "17/17 [==============================] - 0s 4ms/step - loss: 0.4632 - accuracy: 0.7916 - val_loss: 0.4771 - val_accuracy: 0.7867\n",
      "Epoch 80/600\n",
      "17/17 [==============================] - 0s 4ms/step - loss: 0.4658 - accuracy: 0.7801 - val_loss: 0.4768 - val_accuracy: 0.7867\n",
      "Epoch 81/600\n",
      "17/17 [==============================] - 0s 3ms/step - loss: 0.4670 - accuracy: 0.7878 - val_loss: 0.4758 - val_accuracy: 0.7867\n",
      "Epoch 82/600\n",
      "17/17 [==============================] - 0s 3ms/step - loss: 0.4730 - accuracy: 0.7859 - val_loss: 0.4785 - val_accuracy: 0.7778\n",
      "Epoch 83/600\n",
      "17/17 [==============================] - 0s 4ms/step - loss: 0.4672 - accuracy: 0.7916 - val_loss: 0.4750 - val_accuracy: 0.7867\n",
      "Epoch 84/600\n",
      "17/17 [==============================] - 0s 5ms/step - loss: 0.4669 - accuracy: 0.7878 - val_loss: 0.4761 - val_accuracy: 0.7867\n",
      "Epoch 85/600\n",
      "17/17 [==============================] - 0s 5ms/step - loss: 0.4619 - accuracy: 0.8011 - val_loss: 0.4767 - val_accuracy: 0.7822\n",
      "Epoch 86/600\n",
      "17/17 [==============================] - 0s 9ms/step - loss: 0.4708 - accuracy: 0.7992 - val_loss: 0.4762 - val_accuracy: 0.7867\n",
      "Epoch 87/600\n",
      "17/17 [==============================] - 0s 9ms/step - loss: 0.4637 - accuracy: 0.7897 - val_loss: 0.4762 - val_accuracy: 0.7867\n",
      "Epoch 88/600\n",
      "17/17 [==============================] - 0s 5ms/step - loss: 0.4711 - accuracy: 0.7897 - val_loss: 0.4779 - val_accuracy: 0.7822\n",
      "Epoch 89/600\n",
      "17/17 [==============================] - 0s 4ms/step - loss: 0.4670 - accuracy: 0.7878 - val_loss: 0.4771 - val_accuracy: 0.7822\n",
      "Epoch 90/600\n",
      "17/17 [==============================] - 0s 7ms/step - loss: 0.4688 - accuracy: 0.7859 - val_loss: 0.4767 - val_accuracy: 0.7822\n",
      "Epoch 91/600\n",
      "17/17 [==============================] - 0s 10ms/step - loss: 0.4657 - accuracy: 0.7954 - val_loss: 0.4758 - val_accuracy: 0.7867\n",
      "Epoch 92/600\n",
      "17/17 [==============================] - 0s 9ms/step - loss: 0.4711 - accuracy: 0.7782 - val_loss: 0.4756 - val_accuracy: 0.7867\n",
      "Epoch 93/600\n",
      "17/17 [==============================] - 0s 4ms/step - loss: 0.4680 - accuracy: 0.7916 - val_loss: 0.4770 - val_accuracy: 0.7778\n",
      "Epoch 94/600\n",
      "17/17 [==============================] - 0s 4ms/step - loss: 0.4610 - accuracy: 0.7839 - val_loss: 0.4758 - val_accuracy: 0.7867\n",
      "Epoch 95/600\n",
      "17/17 [==============================] - 0s 4ms/step - loss: 0.4628 - accuracy: 0.7839 - val_loss: 0.4757 - val_accuracy: 0.7867\n",
      "Epoch 96/600\n",
      "17/17 [==============================] - 0s 3ms/step - loss: 0.4702 - accuracy: 0.7782 - val_loss: 0.4755 - val_accuracy: 0.7867\n",
      "Epoch 97/600\n",
      "17/17 [==============================] - 0s 6ms/step - loss: 0.4669 - accuracy: 0.7897 - val_loss: 0.4747 - val_accuracy: 0.7867\n",
      "Epoch 98/600\n",
      "17/17 [==============================] - 0s 7ms/step - loss: 0.4659 - accuracy: 0.7859 - val_loss: 0.4759 - val_accuracy: 0.7867\n",
      "Epoch 99/600\n",
      "17/17 [==============================] - 0s 7ms/step - loss: 0.4644 - accuracy: 0.7859 - val_loss: 0.4761 - val_accuracy: 0.7867\n",
      "Epoch 100/600\n",
      "17/17 [==============================] - 0s 8ms/step - loss: 0.4690 - accuracy: 0.7878 - val_loss: 0.4743 - val_accuracy: 0.7911\n",
      "Epoch 101/600\n",
      "17/17 [==============================] - 0s 15ms/step - loss: 0.4707 - accuracy: 0.7859 - val_loss: 0.4744 - val_accuracy: 0.7911\n",
      "Epoch 102/600\n",
      "17/17 [==============================] - 0s 10ms/step - loss: 0.4717 - accuracy: 0.7801 - val_loss: 0.4747 - val_accuracy: 0.7867\n",
      "Epoch 103/600\n",
      "17/17 [==============================] - 0s 4ms/step - loss: 0.4653 - accuracy: 0.7973 - val_loss: 0.4762 - val_accuracy: 0.7867\n",
      "Epoch 104/600\n",
      "17/17 [==============================] - 0s 4ms/step - loss: 0.4669 - accuracy: 0.7859 - val_loss: 0.4765 - val_accuracy: 0.7822\n",
      "Epoch 105/600\n",
      "17/17 [==============================] - 0s 3ms/step - loss: 0.4650 - accuracy: 0.7801 - val_loss: 0.4755 - val_accuracy: 0.7822\n",
      "Epoch 106/600\n",
      "17/17 [==============================] - 0s 4ms/step - loss: 0.4670 - accuracy: 0.7839 - val_loss: 0.4753 - val_accuracy: 0.7867\n",
      "Epoch 107/600\n",
      "17/17 [==============================] - 0s 5ms/step - loss: 0.4682 - accuracy: 0.7859 - val_loss: 0.4746 - val_accuracy: 0.7822\n",
      "Epoch 108/600\n",
      "17/17 [==============================] - 0s 8ms/step - loss: 0.4683 - accuracy: 0.7916 - val_loss: 0.4742 - val_accuracy: 0.7867\n",
      "Epoch 109/600\n",
      "17/17 [==============================] - 0s 7ms/step - loss: 0.4645 - accuracy: 0.7801 - val_loss: 0.4767 - val_accuracy: 0.7822\n",
      "Epoch 110/600\n",
      "17/17 [==============================] - 0s 8ms/step - loss: 0.4726 - accuracy: 0.7801 - val_loss: 0.4735 - val_accuracy: 0.7822\n",
      "Epoch 111/600\n",
      "17/17 [==============================] - 0s 4ms/step - loss: 0.4650 - accuracy: 0.7954 - val_loss: 0.4765 - val_accuracy: 0.7822\n",
      "Epoch 112/600\n",
      "17/17 [==============================] - 0s 4ms/step - loss: 0.4677 - accuracy: 0.7820 - val_loss: 0.4748 - val_accuracy: 0.7867\n",
      "Epoch 113/600\n",
      "17/17 [==============================] - 0s 4ms/step - loss: 0.4688 - accuracy: 0.7878 - val_loss: 0.4733 - val_accuracy: 0.7867\n",
      "Epoch 114/600\n",
      "17/17 [==============================] - 0s 4ms/step - loss: 0.4633 - accuracy: 0.7859 - val_loss: 0.4732 - val_accuracy: 0.7867\n",
      "Epoch 115/600\n",
      "17/17 [==============================] - 0s 4ms/step - loss: 0.4733 - accuracy: 0.7839 - val_loss: 0.4761 - val_accuracy: 0.7822\n",
      "Epoch 116/600\n",
      "17/17 [==============================] - 0s 3ms/step - loss: 0.4632 - accuracy: 0.7897 - val_loss: 0.4759 - val_accuracy: 0.7867\n",
      "Epoch 117/600\n",
      "17/17 [==============================] - 0s 5ms/step - loss: 0.4644 - accuracy: 0.7820 - val_loss: 0.4734 - val_accuracy: 0.7778\n",
      "Epoch 118/600\n",
      "17/17 [==============================] - 0s 3ms/step - loss: 0.4672 - accuracy: 0.7782 - val_loss: 0.4743 - val_accuracy: 0.7822\n",
      "Epoch 119/600\n",
      "17/17 [==============================] - 0s 4ms/step - loss: 0.4628 - accuracy: 0.7897 - val_loss: 0.4752 - val_accuracy: 0.7867\n",
      "Epoch 120/600\n",
      "17/17 [==============================] - 0s 4ms/step - loss: 0.4613 - accuracy: 0.7878 - val_loss: 0.4743 - val_accuracy: 0.7867\n",
      "Epoch 121/600\n",
      "17/17 [==============================] - 0s 4ms/step - loss: 0.4692 - accuracy: 0.7839 - val_loss: 0.4737 - val_accuracy: 0.7867\n",
      "Epoch 122/600\n",
      "17/17 [==============================] - 0s 4ms/step - loss: 0.4654 - accuracy: 0.7878 - val_loss: 0.4736 - val_accuracy: 0.7822\n",
      "Epoch 123/600\n",
      "17/17 [==============================] - 0s 5ms/step - loss: 0.4629 - accuracy: 0.7897 - val_loss: 0.4736 - val_accuracy: 0.7822\n",
      "Epoch 124/600\n",
      "17/17 [==============================] - 0s 4ms/step - loss: 0.4649 - accuracy: 0.7839 - val_loss: 0.4726 - val_accuracy: 0.7822\n",
      "Epoch 125/600\n",
      "17/17 [==============================] - 0s 3ms/step - loss: 0.4672 - accuracy: 0.7935 - val_loss: 0.4731 - val_accuracy: 0.7867\n",
      "Epoch 126/600\n",
      "17/17 [==============================] - 0s 3ms/step - loss: 0.4647 - accuracy: 0.7916 - val_loss: 0.4739 - val_accuracy: 0.7867\n",
      "Epoch 127/600\n",
      "17/17 [==============================] - 0s 3ms/step - loss: 0.4658 - accuracy: 0.7839 - val_loss: 0.4735 - val_accuracy: 0.7822\n",
      "Epoch 128/600\n",
      "17/17 [==============================] - 0s 5ms/step - loss: 0.4656 - accuracy: 0.7954 - val_loss: 0.4747 - val_accuracy: 0.7867\n",
      "Epoch 129/600\n",
      "17/17 [==============================] - 0s 4ms/step - loss: 0.4660 - accuracy: 0.7859 - val_loss: 0.4733 - val_accuracy: 0.7822\n",
      "Epoch 130/600\n",
      "17/17 [==============================] - 0s 3ms/step - loss: 0.4643 - accuracy: 0.7916 - val_loss: 0.4736 - val_accuracy: 0.7822\n",
      "Epoch 131/600\n",
      "17/17 [==============================] - 0s 4ms/step - loss: 0.4683 - accuracy: 0.7878 - val_loss: 0.4735 - val_accuracy: 0.7867\n",
      "Epoch 132/600\n",
      "17/17 [==============================] - 0s 5ms/step - loss: 0.4698 - accuracy: 0.7859 - val_loss: 0.4720 - val_accuracy: 0.7778\n",
      "Epoch 133/600\n",
      "17/17 [==============================] - 0s 4ms/step - loss: 0.4618 - accuracy: 0.7897 - val_loss: 0.4728 - val_accuracy: 0.7822\n",
      "Epoch 134/600\n",
      "17/17 [==============================] - 0s 4ms/step - loss: 0.4607 - accuracy: 0.7954 - val_loss: 0.4723 - val_accuracy: 0.7822\n",
      "Epoch 135/600\n",
      "17/17 [==============================] - 0s 4ms/step - loss: 0.4680 - accuracy: 0.7935 - val_loss: 0.4732 - val_accuracy: 0.7867\n",
      "Epoch 136/600\n",
      "17/17 [==============================] - 0s 5ms/step - loss: 0.4596 - accuracy: 0.7916 - val_loss: 0.4738 - val_accuracy: 0.7911\n",
      "Epoch 137/600\n",
      "17/17 [==============================] - 0s 6ms/step - loss: 0.4674 - accuracy: 0.7878 - val_loss: 0.4729 - val_accuracy: 0.7822\n",
      "Epoch 138/600\n",
      "17/17 [==============================] - 0s 5ms/step - loss: 0.4681 - accuracy: 0.7820 - val_loss: 0.4733 - val_accuracy: 0.7822\n",
      "Epoch 139/600\n",
      "17/17 [==============================] - 0s 5ms/step - loss: 0.4678 - accuracy: 0.7859 - val_loss: 0.4746 - val_accuracy: 0.7867\n",
      "Epoch 140/600\n",
      "17/17 [==============================] - 0s 4ms/step - loss: 0.4661 - accuracy: 0.7935 - val_loss: 0.4714 - val_accuracy: 0.7867\n",
      "Epoch 141/600\n",
      "17/17 [==============================] - 0s 5ms/step - loss: 0.4622 - accuracy: 0.7820 - val_loss: 0.4724 - val_accuracy: 0.7911\n",
      "Epoch 142/600\n",
      "17/17 [==============================] - 0s 4ms/step - loss: 0.4612 - accuracy: 0.7897 - val_loss: 0.4730 - val_accuracy: 0.7867\n",
      "Epoch 143/600\n",
      "17/17 [==============================] - 0s 6ms/step - loss: 0.4705 - accuracy: 0.7935 - val_loss: 0.4710 - val_accuracy: 0.7867\n",
      "Epoch 144/600\n",
      "17/17 [==============================] - 0s 6ms/step - loss: 0.4608 - accuracy: 0.7878 - val_loss: 0.4755 - val_accuracy: 0.7778\n",
      "Epoch 145/600\n",
      "17/17 [==============================] - 0s 4ms/step - loss: 0.4708 - accuracy: 0.7782 - val_loss: 0.4708 - val_accuracy: 0.7822\n",
      "Epoch 146/600\n",
      "17/17 [==============================] - 0s 5ms/step - loss: 0.4666 - accuracy: 0.7878 - val_loss: 0.4731 - val_accuracy: 0.7822\n",
      "Epoch 147/600\n",
      "17/17 [==============================] - 0s 8ms/step - loss: 0.4656 - accuracy: 0.7820 - val_loss: 0.4720 - val_accuracy: 0.7867\n",
      "Epoch 148/600\n",
      "17/17 [==============================] - 0s 8ms/step - loss: 0.4697 - accuracy: 0.7935 - val_loss: 0.4729 - val_accuracy: 0.7867\n",
      "Epoch 149/600\n",
      "17/17 [==============================] - 0s 8ms/step - loss: 0.4629 - accuracy: 0.7859 - val_loss: 0.4748 - val_accuracy: 0.7822\n",
      "Epoch 150/600\n",
      "17/17 [==============================] - 0s 6ms/step - loss: 0.4593 - accuracy: 0.7973 - val_loss: 0.4709 - val_accuracy: 0.7911\n",
      "Epoch 151/600\n",
      "17/17 [==============================] - 0s 7ms/step - loss: 0.4743 - accuracy: 0.7744 - val_loss: 0.4714 - val_accuracy: 0.7911\n",
      "Epoch 152/600\n",
      "17/17 [==============================] - 0s 4ms/step - loss: 0.4695 - accuracy: 0.7859 - val_loss: 0.4721 - val_accuracy: 0.7867\n",
      "Epoch 153/600\n",
      "17/17 [==============================] - 0s 3ms/step - loss: 0.4665 - accuracy: 0.7897 - val_loss: 0.4721 - val_accuracy: 0.7867\n",
      "Epoch 154/600\n",
      "17/17 [==============================] - 0s 4ms/step - loss: 0.4620 - accuracy: 0.7916 - val_loss: 0.4714 - val_accuracy: 0.7911\n",
      "Epoch 155/600\n",
      "17/17 [==============================] - 0s 3ms/step - loss: 0.4591 - accuracy: 0.7973 - val_loss: 0.4737 - val_accuracy: 0.7822\n",
      "Epoch 156/600\n",
      "17/17 [==============================] - 0s 3ms/step - loss: 0.4665 - accuracy: 0.7859 - val_loss: 0.4733 - val_accuracy: 0.7867\n",
      "Epoch 157/600\n",
      "17/17 [==============================] - 0s 3ms/step - loss: 0.4707 - accuracy: 0.7839 - val_loss: 0.4721 - val_accuracy: 0.7822\n",
      "Epoch 158/600\n",
      "17/17 [==============================] - 0s 4ms/step - loss: 0.4615 - accuracy: 0.7839 - val_loss: 0.4726 - val_accuracy: 0.7867\n",
      "Epoch 159/600\n",
      "17/17 [==============================] - 0s 8ms/step - loss: 0.4672 - accuracy: 0.8031 - val_loss: 0.4720 - val_accuracy: 0.7911\n",
      "Epoch 160/600\n",
      "17/17 [==============================] - 0s 8ms/step - loss: 0.4649 - accuracy: 0.7801 - val_loss: 0.4726 - val_accuracy: 0.7867\n",
      "Epoch 161/600\n",
      "17/17 [==============================] - 0s 4ms/step - loss: 0.4590 - accuracy: 0.7935 - val_loss: 0.4719 - val_accuracy: 0.7911\n",
      "Epoch 162/600\n",
      "17/17 [==============================] - 0s 3ms/step - loss: 0.4632 - accuracy: 0.7878 - val_loss: 0.4727 - val_accuracy: 0.7911\n",
      "Epoch 163/600\n",
      "17/17 [==============================] - 0s 3ms/step - loss: 0.4615 - accuracy: 0.7916 - val_loss: 0.4723 - val_accuracy: 0.7867\n",
      "Epoch 164/600\n",
      "17/17 [==============================] - 0s 4ms/step - loss: 0.4624 - accuracy: 0.7916 - val_loss: 0.4723 - val_accuracy: 0.7911\n",
      "Epoch 165/600\n",
      "17/17 [==============================] - 0s 4ms/step - loss: 0.4672 - accuracy: 0.7916 - val_loss: 0.4729 - val_accuracy: 0.7778\n"
     ]
    }
   ],
   "source": [
    "history = model.fit(X_train,y_train,epochs=600,validation_data = (X_test,y_test),callbacks=callbacks)"
   ]
  },
  {
   "cell_type": "code",
   "execution_count": 19,
   "metadata": {},
   "outputs": [],
   "source": [
    "losses = pd.DataFrame(history.history)"
   ]
  },
  {
   "cell_type": "code",
   "execution_count": 20,
   "metadata": {},
   "outputs": [
    {
     "data": {
      "text/html": [
       "<div>\n",
       "<style scoped>\n",
       "    .dataframe tbody tr th:only-of-type {\n",
       "        vertical-align: middle;\n",
       "    }\n",
       "\n",
       "    .dataframe tbody tr th {\n",
       "        vertical-align: top;\n",
       "    }\n",
       "\n",
       "    .dataframe thead th {\n",
       "        text-align: right;\n",
       "    }\n",
       "</style>\n",
       "<table border=\"1\" class=\"dataframe\">\n",
       "  <thead>\n",
       "    <tr style=\"text-align: right;\">\n",
       "      <th></th>\n",
       "      <th>loss</th>\n",
       "      <th>accuracy</th>\n",
       "      <th>val_loss</th>\n",
       "      <th>val_accuracy</th>\n",
       "    </tr>\n",
       "  </thead>\n",
       "  <tbody>\n",
       "    <tr>\n",
       "      <th>0</th>\n",
       "      <td>0.670634</td>\n",
       "      <td>0.755258</td>\n",
       "      <td>0.644540</td>\n",
       "      <td>0.746667</td>\n",
       "    </tr>\n",
       "    <tr>\n",
       "      <th>1</th>\n",
       "      <td>0.627437</td>\n",
       "      <td>0.768642</td>\n",
       "      <td>0.599294</td>\n",
       "      <td>0.746667</td>\n",
       "    </tr>\n",
       "    <tr>\n",
       "      <th>2</th>\n",
       "      <td>0.583494</td>\n",
       "      <td>0.768642</td>\n",
       "      <td>0.559788</td>\n",
       "      <td>0.746667</td>\n",
       "    </tr>\n",
       "    <tr>\n",
       "      <th>3</th>\n",
       "      <td>0.548080</td>\n",
       "      <td>0.768642</td>\n",
       "      <td>0.538472</td>\n",
       "      <td>0.746667</td>\n",
       "    </tr>\n",
       "    <tr>\n",
       "      <th>4</th>\n",
       "      <td>0.523332</td>\n",
       "      <td>0.768642</td>\n",
       "      <td>0.530063</td>\n",
       "      <td>0.746667</td>\n",
       "    </tr>\n",
       "  </tbody>\n",
       "</table>\n",
       "</div>"
      ],
      "text/plain": [
       "       loss  accuracy  val_loss  val_accuracy\n",
       "0  0.670634  0.755258  0.644540      0.746667\n",
       "1  0.627437  0.768642  0.599294      0.746667\n",
       "2  0.583494  0.768642  0.559788      0.746667\n",
       "3  0.548080  0.768642  0.538472      0.746667\n",
       "4  0.523332  0.768642  0.530063      0.746667"
      ]
     },
     "execution_count": 20,
     "metadata": {},
     "output_type": "execute_result"
    }
   ],
   "source": [
    "losses.head()"
   ]
  },
  {
   "cell_type": "code",
   "execution_count": 21,
   "metadata": {},
   "outputs": [
    {
     "data": {
      "text/plain": [
       "<matplotlib.legend.Legend at 0x7f01a80eafd0>"
      ]
     },
     "execution_count": 21,
     "metadata": {},
     "output_type": "execute_result"
    },
    {
     "data": {
      "image/png": "[encoded data removed]",
      "text/plain": [
       "<Figure size 864x432 with 1 Axes>"
      ]
     },
     "metadata": {
      "needs_background": "light"
     },
     "output_type": "display_data"
    }
   ],
   "source": [
    "plt.figure(figsize=(12,6))\n",
    "plt.xlabel('Epochs')\n",
    "plt.ylabel('Loss')\n",
    "losses['loss'].plot(label='Training Loss')\n",
    "losses['val_loss'].plot(label='Validation Loss')\n",
    "plt.legend(loc='center')"
   ]
  },
  {
   "cell_type": "code",
   "execution_count": 23,
   "metadata": {},
   "outputs": [
    {
     "name": "stdout",
     "output_type": "stream",
     "text": [
      "8/8 [==============================] - 0s 2ms/step - loss: 0.4729 - accuracy: 0.7778\n"
     ]
    },
    {
     "data": {
      "text/plain": [
       "[0.47294023633003235, 0.7777777910232544]"
      ]
     },
     "execution_count": 23,
     "metadata": {},
     "output_type": "execute_result"
    }
   ],
   "source": [
    "model.evaluate(X_test, y_test)"
   ]
  },
  {
   "cell_type": "code",
   "execution_count": 24,
   "metadata": {},
   "outputs": [],
   "source": [
    "predictions = model.predict(X_test)\n",
    "import numpy as np\n",
    "np.set_printoptions(suppress=True)"
   ]
  },
  {
   "cell_type": "code",
   "execution_count": 25,
   "metadata": {},
   "outputs": [],
   "source": [
    "predictions_df = pd.DataFrame(predictions.round(3),columns=['Prediction'])"
   ]
  },
  {
   "cell_type": "code",
   "execution_count": 26,
   "metadata": {},
   "outputs": [
    {
     "data": {
      "text/html": [
       "<div>\n",
       "<style scoped>\n",
       "    .dataframe tbody tr th:only-of-type {\n",
       "        vertical-align: middle;\n",
       "    }\n",
       "\n",
       "    .dataframe tbody tr th {\n",
       "        vertical-align: top;\n",
       "    }\n",
       "\n",
       "    .dataframe thead th {\n",
       "        text-align: right;\n",
       "    }\n",
       "</style>\n",
       "<table border=\"1\" class=\"dataframe\">\n",
       "  <thead>\n",
       "    <tr style=\"text-align: right;\">\n",
       "      <th></th>\n",
       "      <th>Prediction</th>\n",
       "    </tr>\n",
       "  </thead>\n",
       "  <tbody>\n",
       "    <tr>\n",
       "      <th>0</th>\n",
       "      <td>0.089</td>\n",
       "    </tr>\n",
       "    <tr>\n",
       "      <th>1</th>\n",
       "      <td>0.456</td>\n",
       "    </tr>\n",
       "    <tr>\n",
       "      <th>2</th>\n",
       "      <td>0.155</td>\n",
       "    </tr>\n",
       "    <tr>\n",
       "      <th>3</th>\n",
       "      <td>0.112</td>\n",
       "    </tr>\n",
       "    <tr>\n",
       "      <th>4</th>\n",
       "      <td>0.232</td>\n",
       "    </tr>\n",
       "  </tbody>\n",
       "</table>\n",
       "</div>"
      ],
      "text/plain": [
       "   Prediction\n",
       "0       0.089\n",
       "1       0.456\n",
       "2       0.155\n",
       "3       0.112\n",
       "4       0.232"
      ]
     },
     "execution_count": 26,
     "metadata": {},
     "output_type": "execute_result"
    }
   ],
   "source": [
    "predictions_df.head()"
   ]
  },
  {
   "cell_type": "code",
   "execution_count": 27,
   "metadata": {},
   "outputs": [
    {
     "name": "stdout",
     "output_type": "stream",
     "text": [
      "<class 'pandas.core.frame.DataFrame'>\n",
      "RangeIndex: 225 entries, 0 to 224\n",
      "Data columns (total 1 columns):\n",
      "Prediction    225 non-null float32\n",
      "dtypes: float32(1)\n",
      "memory usage: 1.0 KB\n"
     ]
    }
   ],
   "source": [
    " predictions_df.info()"
   ]
  },
  {
   "cell_type": "code",
   "execution_count": 28,
   "metadata": {},
   "outputs": [],
   "source": [
    "predictions_df['Row ID'] = range(0,225)"
   ]
  },
  {
   "cell_type": "code",
   "execution_count": 29,
   "metadata": {},
   "outputs": [
    {
     "data": {
      "text/html": [
       "<div>\n",
       "<style scoped>\n",
       "    .dataframe tbody tr th:only-of-type {\n",
       "        vertical-align: middle;\n",
       "    }\n",
       "\n",
       "    .dataframe tbody tr th {\n",
       "        vertical-align: top;\n",
       "    }\n",
       "\n",
       "    .dataframe thead th {\n",
       "        text-align: right;\n",
       "    }\n",
       "</style>\n",
       "<table border=\"1\" class=\"dataframe\">\n",
       "  <thead>\n",
       "    <tr style=\"text-align: right;\">\n",
       "      <th></th>\n",
       "      <th>Prediction</th>\n",
       "      <th>Row ID</th>\n",
       "    </tr>\n",
       "  </thead>\n",
       "  <tbody>\n",
       "    <tr>\n",
       "      <th>220</th>\n",
       "      <td>0.132</td>\n",
       "      <td>220</td>\n",
       "    </tr>\n",
       "    <tr>\n",
       "      <th>221</th>\n",
       "      <td>0.073</td>\n",
       "      <td>221</td>\n",
       "    </tr>\n",
       "    <tr>\n",
       "      <th>222</th>\n",
       "      <td>0.098</td>\n",
       "      <td>222</td>\n",
       "    </tr>\n",
       "    <tr>\n",
       "      <th>223</th>\n",
       "      <td>0.255</td>\n",
       "      <td>223</td>\n",
       "    </tr>\n",
       "    <tr>\n",
       "      <th>224</th>\n",
       "      <td>0.182</td>\n",
       "      <td>224</td>\n",
       "    </tr>\n",
       "  </tbody>\n",
       "</table>\n",
       "</div>"
      ],
      "text/plain": [
       "     Prediction  Row ID\n",
       "220       0.132     220\n",
       "221       0.073     221\n",
       "222       0.098     222\n",
       "223       0.255     223\n",
       "224       0.182     224"
      ]
     },
     "execution_count": 29,
     "metadata": {},
     "output_type": "execute_result"
    }
   ],
   "source": [
    "predictions_df.tail()"
   ]
  },
  {
   "cell_type": "code",
   "execution_count": 30,
   "metadata": {},
   "outputs": [
    {
     "data": {
      "text/plain": [
       "0.6779999732971191"
      ]
     },
     "execution_count": 30,
     "metadata": {},
     "output_type": "execute_result"
    }
   ],
   "source": [
    "predictions_df['Prediction'].max()"
   ]
  },
  {
   "cell_type": "code",
   "execution_count": 31,
   "metadata": {},
   "outputs": [
    {
     "data": {
      "text/plain": [
       "0.004999999888241291"
      ]
     },
     "execution_count": 31,
     "metadata": {},
     "output_type": "execute_result"
    }
   ],
   "source": [
    "predictions_df['Prediction'].min()"
   ]
  },
  {
   "cell_type": "code",
   "execution_count": 32,
   "metadata": {},
   "outputs": [],
   "source": [
    "predictions = (predictions > 0.5)\n"
   ]
  },
  {
   "cell_type": "code",
   "execution_count": 33,
   "metadata": {},
   "outputs": [],
   "source": [
    "#predictions"
   ]
  },
  {
   "cell_type": "code",
   "execution_count": 34,
   "metadata": {},
   "outputs": [],
   "source": [
    "from sklearn.metrics import classification_report"
   ]
  },
  {
   "cell_type": "code",
   "execution_count": 35,
   "metadata": {},
   "outputs": [
    {
     "name": "stdout",
     "output_type": "stream",
     "text": [
      "              precision    recall  f1-score   support\n",
      "\n",
      "       False       0.97      0.78      0.87       208\n",
      "        True       0.21      0.71      0.32        17\n",
      "\n",
      "    accuracy                           0.78       225\n",
      "   macro avg       0.59      0.74      0.60       225\n",
      "weighted avg       0.91      0.78      0.83       225\n",
      "\n"
     ]
    }
   ],
   "source": [
    "print(classification_report(predictions.reshape(225,), y_test))"
   ]
  },
  {
   "cell_type": "markdown",
   "metadata": {},
   "source": [
    "# Model Saving"
   ]
  },
  {
   "cell_type": "markdown",
   "metadata": {},
   "source": [
    "[How can I install HDF5 or h5py to save my models?](https://keras.io/getting_started/faq/#how-can-i-install-hdf5-or-h5py-to-save-my-models)\n"
   ]
  },
  {
   "cell_type": "code",
   "execution_count": null,
   "metadata": {},
   "outputs": [],
   "source": [
    "model.save('model.h5')"
   ]
  },
  {
   "cell_type": "code",
   "execution_count": 36,
   "metadata": {},
   "outputs": [],
   "source": [
    "from tensorflow.keras.models import load_model\n",
    "saved_model = load_model('model.h5')"
   ]
  },
  {
   "cell_type": "code",
   "execution_count": 37,
   "metadata": {},
   "outputs": [
    {
     "name": "stdout",
     "output_type": "stream",
     "text": [
      "Model: \"sequential\"\n",
      "_________________________________________________________________\n",
      "Layer (type)                 Output Shape              Param #   \n",
      "=================================================================\n",
      "dense (Dense)                (None, 20)                100       \n",
      "_________________________________________________________________\n",
      "dense_1 (Dense)              (None, 15)                315       \n",
      "_________________________________________________________________\n",
      "dropout (Dropout)            (None, 15)                0         \n",
      "_________________________________________________________________\n",
      "dense_2 (Dense)              (None, 25)                400       \n",
      "_________________________________________________________________\n",
      "dense_3 (Dense)              (None, 1)                 26        \n",
      "=================================================================\n",
      "Total params: 841\n",
      "Trainable params: 841\n",
      "Non-trainable params: 0\n",
      "_________________________________________________________________\n"
     ]
    }
   ],
   "source": [
    "saved_model.summary()"
   ]
  },
  {
   "cell_type": "code",
   "execution_count": 38,
   "metadata": {},
   "outputs": [
    {
     "data": {
      "image/png": "[encoded data removed]",
      "text/plain": [
       "<IPython.core.display.Image object>"
      ]
     },
     "execution_count": 38,
     "metadata": {},
     "output_type": "execute_result"
    }
   ],
   "source": [
    "import tensorflow as tf\n",
    "tf.keras.utils.plot_model(\n",
    "    model,\n",
    "    to_file=\"model.png\",\n",
    "    show_shapes=True,\n",
    "    show_layer_names=True,\n",
    "    rankdir=\"TB\",\n",
    "    expand_nested=True,\n",
    "    dpi=96,\n",
    ")"
   ]
  },
  {
   "cell_type": "markdown",
   "metadata": {},
   "source": [
    "Happy Learning!"
   ]
  }
 ],
 "metadata": {
  "kernelspec": {
   "display_name": "Python 3",
   "language": "python",
   "name": "python3"
  },
  "language_info": {
   "codemirror_mode": {
    "name": "ipython",
    "version": 3
   },
   "file_extension": ".py",
   "mimetype": "text/x-python",
   "name": "python",
   "nbconvert_exporter": "python",
   "pygments_lexer": "ipython3",
   "version": "3.7.6"
  }
 },
 "nbformat": 4,
 "nbformat_minor": 4
}
